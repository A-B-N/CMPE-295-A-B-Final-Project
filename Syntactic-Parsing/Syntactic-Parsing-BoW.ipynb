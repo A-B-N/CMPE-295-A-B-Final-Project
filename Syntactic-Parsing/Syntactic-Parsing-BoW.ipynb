{
 "cells": [
  {
   "cell_type": "markdown",
   "metadata": {},
   "source": [
    "# Symantic Parsing - Bag of words"
   ]
  },
  {
   "cell_type": "code",
   "execution_count": 29,
   "metadata": {
    "scrolled": true
   },
   "outputs": [
    {
     "name": "stdout",
     "output_type": "stream",
     "text": [
      "[nltk_data] Downloading package stopwords to\n",
      "[nltk_data]     C:\\Users\\pooja\\AppData\\Roaming\\nltk_data...\n",
      "[nltk_data]   Package stopwords is already up-to-date!\n",
      "[nltk_data] Downloading package wordnet to\n",
      "[nltk_data]     C:\\Users\\pooja\\AppData\\Roaming\\nltk_data...\n",
      "[nltk_data]   Package wordnet is already up-to-date!\n"
     ]
    }
   ],
   "source": [
    "#Import necessary libraries\n",
    "import re\n",
    "import nltk\n",
    "import math\n",
    "import string\n",
    "import pandas as pd\n",
    "import scipy as sp\n",
    "import numpy as np\n",
    "import matplotlib.pyplot as plt\n",
    "from collections import Counter, defaultdict\n",
    "from scipy.sparse import csr_matrix\n",
    "import scipy as sp\n",
    "from string import punctuation\n",
    "from nltk.corpus import stopwords\n",
    "from nltk.stem import LancasterStemmer, WordNetLemmatizer\n",
    "nltk.download('stopwords')\n",
    "nltk.download('wordnet')\n",
    "\n",
    "get_ipython().run_line_magic('matplotlib', 'inline')\n",
    "\n",
    "from collections import defaultdict"
   ]
  },
  {
   "cell_type": "code",
   "execution_count": 30,
   "metadata": {},
   "outputs": [],
   "source": [
    "# open test file and read its lines\n",
    "with open(\"train.dat\", 'r') as fh:\n",
    "    lines = fh.readlines()"
   ]
  },
  {
   "cell_type": "code",
   "execution_count": 31,
   "metadata": {},
   "outputs": [],
   "source": [
    "#spliting the scentences into words\n",
    "data = [l.split() for l in lines]\n"
   ]
  },
  {
   "cell_type": "code",
   "execution_count": 32,
   "metadata": {},
   "outputs": [],
   "source": [
    "#obtaining the class labels from documents\n",
    "labels = []\n",
    "words = []\n",
    "for i in range (0,len(data)):\n",
    "    labels.append(data[i][0])\n",
    "    words.append(data[i][1:])"
   ]
  },
  {
   "cell_type": "code",
   "execution_count": 63,
   "metadata": {},
   "outputs": [
    {
     "data": {
      "image/png": "[encoded data removed]",
      "text/plain": [
       "<Figure size 432x288 with 1 Axes>"
      ]
     },
     "metadata": {},
     "output_type": "display_data"
    }
   ],
   "source": [
    "plt.title('Histogram for no. of documents under each category')\n",
    "plt.xlabel('Categories')\n",
    "plt.ylabel('No. of Documents')\n",
    "plt.hist(labels)\n",
    "plt.show()"
   ]
  },
  {
   "cell_type": "code",
   "execution_count": 33,
   "metadata": {},
   "outputs": [
    {
     "data": {
      "text/html": [
       "<div>\n",
       "<style scoped>\n",
       "    .dataframe tbody tr th:only-of-type {\n",
       "        vertical-align: middle;\n",
       "    }\n",
       "\n",
       "    .dataframe tbody tr th {\n",
       "        vertical-align: top;\n",
       "    }\n",
       "\n",
       "    .dataframe thead th {\n",
       "        text-align: right;\n",
       "    }\n",
       "</style>\n",
       "<table border=\"1\" class=\"dataframe\">\n",
       "  <thead>\n",
       "    <tr style=\"text-align: right;\">\n",
       "      <th></th>\n",
       "      <th>Document</th>\n",
       "      <th>Category</th>\n",
       "    </tr>\n",
       "  </thead>\n",
       "  <tbody>\n",
       "    <tr>\n",
       "      <th>0</th>\n",
       "      <td>[Catheterization, laboratory, events, and, hos...</td>\n",
       "      <td>4</td>\n",
       "    </tr>\n",
       "    <tr>\n",
       "      <th>1</th>\n",
       "      <td>[Renal, abscess, in, children., Three, cases, ...</td>\n",
       "      <td>5</td>\n",
       "    </tr>\n",
       "    <tr>\n",
       "      <th>2</th>\n",
       "      <td>[Hyperplastic, polyps, seen, at, sigmoidoscopy...</td>\n",
       "      <td>2</td>\n",
       "    </tr>\n",
       "    <tr>\n",
       "      <th>3</th>\n",
       "      <td>[Subclavian, artery, to, innominate, vein, fis...</td>\n",
       "      <td>5</td>\n",
       "    </tr>\n",
       "    <tr>\n",
       "      <th>4</th>\n",
       "      <td>[Effect, of, local, inhibition, of, gamma-amin...</td>\n",
       "      <td>4</td>\n",
       "    </tr>\n",
       "    <tr>\n",
       "      <th>5</th>\n",
       "      <td>[Infection, during, chronic, epidural, cathete...</td>\n",
       "      <td>1</td>\n",
       "    </tr>\n",
       "    <tr>\n",
       "      <th>6</th>\n",
       "      <td>[Mediastinal, tracheostomy, using, a, pectoral...</td>\n",
       "      <td>5</td>\n",
       "    </tr>\n",
       "    <tr>\n",
       "      <th>7</th>\n",
       "      <td>[Tumefactive, fibroinflammatory, lesion, of, t...</td>\n",
       "      <td>5</td>\n",
       "    </tr>\n",
       "    <tr>\n",
       "      <th>8</th>\n",
       "      <td>[Multiple, representations, contribute, to, bo...</td>\n",
       "      <td>3</td>\n",
       "    </tr>\n",
       "    <tr>\n",
       "      <th>9</th>\n",
       "      <td>[Increasing, asthma, prevalence, in, a, rural,...</td>\n",
       "      <td>5</td>\n",
       "    </tr>\n",
       "    <tr>\n",
       "      <th>10</th>\n",
       "      <td>[Usefulness, of, the, automatic, implantable, ...</td>\n",
       "      <td>5</td>\n",
       "    </tr>\n",
       "    <tr>\n",
       "      <th>11</th>\n",
       "      <td>[Stress-related, mucosal, damage:, review, of,...</td>\n",
       "      <td>5</td>\n",
       "    </tr>\n",
       "    <tr>\n",
       "      <th>12</th>\n",
       "      <td>[A, biphasic, pattern, of, anti-pre-S, respons...</td>\n",
       "      <td>2</td>\n",
       "    </tr>\n",
       "    <tr>\n",
       "      <th>13</th>\n",
       "      <td>[A, controlled, trial, comparing, vidarabine, ...</td>\n",
       "      <td>5</td>\n",
       "    </tr>\n",
       "    <tr>\n",
       "      <th>14</th>\n",
       "      <td>[Pentostatin, induces, durable, remissions, in...</td>\n",
       "      <td>5</td>\n",
       "    </tr>\n",
       "    <tr>\n",
       "      <th>15</th>\n",
       "      <td>[Cytologic, features, of, poorly, differentiat...</td>\n",
       "      <td>5</td>\n",
       "    </tr>\n",
       "    <tr>\n",
       "      <th>16</th>\n",
       "      <td>[Cutaneous, manifestations, of, multiple, myel...</td>\n",
       "      <td>1</td>\n",
       "    </tr>\n",
       "    <tr>\n",
       "      <th>17</th>\n",
       "      <td>[Steal-prone, coronary, anatomy, and, myocardi...</td>\n",
       "      <td>5</td>\n",
       "    </tr>\n",
       "    <tr>\n",
       "      <th>18</th>\n",
       "      <td>[Ewing's, sarcoma., Radiotherapy, versus, surg...</td>\n",
       "      <td>1</td>\n",
       "    </tr>\n",
       "    <tr>\n",
       "      <th>19</th>\n",
       "      <td>[Tethered, cord, syndrome, from, a, choristoma...</td>\n",
       "      <td>3</td>\n",
       "    </tr>\n",
       "    <tr>\n",
       "      <th>20</th>\n",
       "      <td>[Immunohistochemical, detection, of, P-glycopr...</td>\n",
       "      <td>1</td>\n",
       "    </tr>\n",
       "    <tr>\n",
       "      <th>21</th>\n",
       "      <td>[Acute, phase, reactants, and, risk, of, bacte...</td>\n",
       "      <td>3</td>\n",
       "    </tr>\n",
       "    <tr>\n",
       "      <th>22</th>\n",
       "      <td>[Follicular, thyroid, cancer, treated, at, the...</td>\n",
       "      <td>1</td>\n",
       "    </tr>\n",
       "    <tr>\n",
       "      <th>23</th>\n",
       "      <td>[Hypertension, as, a, risk, factor, for, epile...</td>\n",
       "      <td>5</td>\n",
       "    </tr>\n",
       "    <tr>\n",
       "      <th>24</th>\n",
       "      <td>[Mortality, in, acute, stroke, with, atrial, f...</td>\n",
       "      <td>3</td>\n",
       "    </tr>\n",
       "    <tr>\n",
       "      <th>25</th>\n",
       "      <td>[Renal, replacement, treatment, for, diabetic,...</td>\n",
       "      <td>5</td>\n",
       "    </tr>\n",
       "    <tr>\n",
       "      <th>26</th>\n",
       "      <td>[Acute, urinary, retention, secondary, to, Her...</td>\n",
       "      <td>5</td>\n",
       "    </tr>\n",
       "    <tr>\n",
       "      <th>27</th>\n",
       "      <td>[Indications, for, computed, tomography, in, c...</td>\n",
       "      <td>5</td>\n",
       "    </tr>\n",
       "    <tr>\n",
       "      <th>28</th>\n",
       "      <td>[Lexical, organization, of, nouns, and, verbs,...</td>\n",
       "      <td>3</td>\n",
       "    </tr>\n",
       "    <tr>\n",
       "      <th>29</th>\n",
       "      <td>[Vitamin, B6, in, the, treatment, of, the, pre...</td>\n",
       "      <td>5</td>\n",
       "    </tr>\n",
       "    <tr>\n",
       "      <th>...</th>\n",
       "      <td>...</td>\n",
       "      <td>...</td>\n",
       "    </tr>\n",
       "    <tr>\n",
       "      <th>14408</th>\n",
       "      <td>[SPECT, imaging, of, pediatric, brain, tumor, ...</td>\n",
       "      <td>1</td>\n",
       "    </tr>\n",
       "    <tr>\n",
       "      <th>14409</th>\n",
       "      <td>[The, supraspinal, anxiolytic, effect, of, bac...</td>\n",
       "      <td>3</td>\n",
       "    </tr>\n",
       "    <tr>\n",
       "      <th>14410</th>\n",
       "      <td>[Sixty, consecutive, breast, reconstructions, ...</td>\n",
       "      <td>5</td>\n",
       "    </tr>\n",
       "    <tr>\n",
       "      <th>14411</th>\n",
       "      <td>[Recurrent, transient, ischemic, attacks, and,...</td>\n",
       "      <td>4</td>\n",
       "    </tr>\n",
       "    <tr>\n",
       "      <th>14412</th>\n",
       "      <td>[Primary, defect, in, alpha-adrenergic, respon...</td>\n",
       "      <td>4</td>\n",
       "    </tr>\n",
       "    <tr>\n",
       "      <th>14413</th>\n",
       "      <td>[The, Van, Nes, tibial, rotationplasty., A, fu...</td>\n",
       "      <td>1</td>\n",
       "    </tr>\n",
       "    <tr>\n",
       "      <th>14414</th>\n",
       "      <td>[Disposition, of, 5-aminosalicylic, acid, by, ...</td>\n",
       "      <td>2</td>\n",
       "    </tr>\n",
       "    <tr>\n",
       "      <th>14415</th>\n",
       "      <td>[Treatment, of, angiomas, with, sclerosing, in...</td>\n",
       "      <td>1</td>\n",
       "    </tr>\n",
       "    <tr>\n",
       "      <th>14416</th>\n",
       "      <td>[Cystic, medionecrosis, of, the, coronary, art...</td>\n",
       "      <td>4</td>\n",
       "    </tr>\n",
       "    <tr>\n",
       "      <th>14417</th>\n",
       "      <td>[Natural, history, of, progressive, ischemic, ...</td>\n",
       "      <td>3</td>\n",
       "    </tr>\n",
       "    <tr>\n",
       "      <th>14418</th>\n",
       "      <td>[Nasal, valve, malfunction, resulting, from, r...</td>\n",
       "      <td>5</td>\n",
       "    </tr>\n",
       "    <tr>\n",
       "      <th>14419</th>\n",
       "      <td>[A, blood-liquid, interface, for, prolonged, e...</td>\n",
       "      <td>4</td>\n",
       "    </tr>\n",
       "    <tr>\n",
       "      <th>14420</th>\n",
       "      <td>[Genetic, mechanisms, of, tumor, suppression, ...</td>\n",
       "      <td>1</td>\n",
       "    </tr>\n",
       "    <tr>\n",
       "      <th>14421</th>\n",
       "      <td>[The, human, immunodeficiency, virus, type, 1,...</td>\n",
       "      <td>5</td>\n",
       "    </tr>\n",
       "    <tr>\n",
       "      <th>14422</th>\n",
       "      <td>[Use, of, a, computerized, closed-loop, sodium...</td>\n",
       "      <td>4</td>\n",
       "    </tr>\n",
       "    <tr>\n",
       "      <th>14423</th>\n",
       "      <td>[Fetal, choroid, plexus, cysts:, a, prospectiv...</td>\n",
       "      <td>3</td>\n",
       "    </tr>\n",
       "    <tr>\n",
       "      <th>14424</th>\n",
       "      <td>[Pyloric, deformation, from, peptic, disease.,...</td>\n",
       "      <td>5</td>\n",
       "    </tr>\n",
       "    <tr>\n",
       "      <th>14425</th>\n",
       "      <td>[Scoliosis, in, trisomy, 18., Patients, with, ...</td>\n",
       "      <td>5</td>\n",
       "    </tr>\n",
       "    <tr>\n",
       "      <th>14426</th>\n",
       "      <td>[Single-stage, laryngotracheal, reconstruction...</td>\n",
       "      <td>5</td>\n",
       "    </tr>\n",
       "    <tr>\n",
       "      <th>14427</th>\n",
       "      <td>[Giant-cell, arteritis, of, the, uterus, with,...</td>\n",
       "      <td>4</td>\n",
       "    </tr>\n",
       "    <tr>\n",
       "      <th>14428</th>\n",
       "      <td>[The, determinants, and, prognostic, significa...</td>\n",
       "      <td>4</td>\n",
       "    </tr>\n",
       "    <tr>\n",
       "      <th>14429</th>\n",
       "      <td>[Primary, de, novo, adenocarcinoma, of, the, c...</td>\n",
       "      <td>1</td>\n",
       "    </tr>\n",
       "    <tr>\n",
       "      <th>14430</th>\n",
       "      <td>[Extensive, peripheral, retinectomy, combined,...</td>\n",
       "      <td>5</td>\n",
       "    </tr>\n",
       "    <tr>\n",
       "      <th>14431</th>\n",
       "      <td>[Early, diagnosis, and, survival, of, ruptured...</td>\n",
       "      <td>3</td>\n",
       "    </tr>\n",
       "    <tr>\n",
       "      <th>14432</th>\n",
       "      <td>[Embolization, with, particles, in, thoracic, ...</td>\n",
       "      <td>4</td>\n",
       "    </tr>\n",
       "    <tr>\n",
       "      <th>14433</th>\n",
       "      <td>[Quadricuspid, aortic, valve, and, aortic, reg...</td>\n",
       "      <td>4</td>\n",
       "    </tr>\n",
       "    <tr>\n",
       "      <th>14434</th>\n",
       "      <td>[Mammographic, measurements, before, and, afte...</td>\n",
       "      <td>1</td>\n",
       "    </tr>\n",
       "    <tr>\n",
       "      <th>14435</th>\n",
       "      <td>[Use, of, leukocyte-depleted, platelet, concen...</td>\n",
       "      <td>1</td>\n",
       "    </tr>\n",
       "    <tr>\n",
       "      <th>14436</th>\n",
       "      <td>[Complications, of, Tenckhoff, catheters, post...</td>\n",
       "      <td>2</td>\n",
       "    </tr>\n",
       "    <tr>\n",
       "      <th>14437</th>\n",
       "      <td>[Fatal, or, severely, disabling, cerebral, inf...</td>\n",
       "      <td>3</td>\n",
       "    </tr>\n",
       "  </tbody>\n",
       "</table>\n",
       "<p>14438 rows × 2 columns</p>\n",
       "</div>"
      ],
      "text/plain": [
       "                                                Document Category\n",
       "0      [Catheterization, laboratory, events, and, hos...        4\n",
       "1      [Renal, abscess, in, children., Three, cases, ...        5\n",
       "2      [Hyperplastic, polyps, seen, at, sigmoidoscopy...        2\n",
       "3      [Subclavian, artery, to, innominate, vein, fis...        5\n",
       "4      [Effect, of, local, inhibition, of, gamma-amin...        4\n",
       "5      [Infection, during, chronic, epidural, cathete...        1\n",
       "6      [Mediastinal, tracheostomy, using, a, pectoral...        5\n",
       "7      [Tumefactive, fibroinflammatory, lesion, of, t...        5\n",
       "8      [Multiple, representations, contribute, to, bo...        3\n",
       "9      [Increasing, asthma, prevalence, in, a, rural,...        5\n",
       "10     [Usefulness, of, the, automatic, implantable, ...        5\n",
       "11     [Stress-related, mucosal, damage:, review, of,...        5\n",
       "12     [A, biphasic, pattern, of, anti-pre-S, respons...        2\n",
       "13     [A, controlled, trial, comparing, vidarabine, ...        5\n",
       "14     [Pentostatin, induces, durable, remissions, in...        5\n",
       "15     [Cytologic, features, of, poorly, differentiat...        5\n",
       "16     [Cutaneous, manifestations, of, multiple, myel...        1\n",
       "17     [Steal-prone, coronary, anatomy, and, myocardi...        5\n",
       "18     [Ewing's, sarcoma., Radiotherapy, versus, surg...        1\n",
       "19     [Tethered, cord, syndrome, from, a, choristoma...        3\n",
       "20     [Immunohistochemical, detection, of, P-glycopr...        1\n",
       "21     [Acute, phase, reactants, and, risk, of, bacte...        3\n",
       "22     [Follicular, thyroid, cancer, treated, at, the...        1\n",
       "23     [Hypertension, as, a, risk, factor, for, epile...        5\n",
       "24     [Mortality, in, acute, stroke, with, atrial, f...        3\n",
       "25     [Renal, replacement, treatment, for, diabetic,...        5\n",
       "26     [Acute, urinary, retention, secondary, to, Her...        5\n",
       "27     [Indications, for, computed, tomography, in, c...        5\n",
       "28     [Lexical, organization, of, nouns, and, verbs,...        3\n",
       "29     [Vitamin, B6, in, the, treatment, of, the, pre...        5\n",
       "...                                                  ...      ...\n",
       "14408  [SPECT, imaging, of, pediatric, brain, tumor, ...        1\n",
       "14409  [The, supraspinal, anxiolytic, effect, of, bac...        3\n",
       "14410  [Sixty, consecutive, breast, reconstructions, ...        5\n",
       "14411  [Recurrent, transient, ischemic, attacks, and,...        4\n",
       "14412  [Primary, defect, in, alpha-adrenergic, respon...        4\n",
       "14413  [The, Van, Nes, tibial, rotationplasty., A, fu...        1\n",
       "14414  [Disposition, of, 5-aminosalicylic, acid, by, ...        2\n",
       "14415  [Treatment, of, angiomas, with, sclerosing, in...        1\n",
       "14416  [Cystic, medionecrosis, of, the, coronary, art...        4\n",
       "14417  [Natural, history, of, progressive, ischemic, ...        3\n",
       "14418  [Nasal, valve, malfunction, resulting, from, r...        5\n",
       "14419  [A, blood-liquid, interface, for, prolonged, e...        4\n",
       "14420  [Genetic, mechanisms, of, tumor, suppression, ...        1\n",
       "14421  [The, human, immunodeficiency, virus, type, 1,...        5\n",
       "14422  [Use, of, a, computerized, closed-loop, sodium...        4\n",
       "14423  [Fetal, choroid, plexus, cysts:, a, prospectiv...        3\n",
       "14424  [Pyloric, deformation, from, peptic, disease.,...        5\n",
       "14425  [Scoliosis, in, trisomy, 18., Patients, with, ...        5\n",
       "14426  [Single-stage, laryngotracheal, reconstruction...        5\n",
       "14427  [Giant-cell, arteritis, of, the, uterus, with,...        4\n",
       "14428  [The, determinants, and, prognostic, significa...        4\n",
       "14429  [Primary, de, novo, adenocarcinoma, of, the, c...        1\n",
       "14430  [Extensive, peripheral, retinectomy, combined,...        5\n",
       "14431  [Early, diagnosis, and, survival, of, ruptured...        3\n",
       "14432  [Embolization, with, particles, in, thoracic, ...        4\n",
       "14433  [Quadricuspid, aortic, valve, and, aortic, reg...        4\n",
       "14434  [Mammographic, measurements, before, and, afte...        1\n",
       "14435  [Use, of, leukocyte-depleted, platelet, concen...        1\n",
       "14436  [Complications, of, Tenckhoff, catheters, post...        2\n",
       "14437  [Fatal, or, severely, disabling, cerebral, inf...        3\n",
       "\n",
       "[14438 rows x 2 columns]"
      ]
     },
     "execution_count": 33,
     "metadata": {},
     "output_type": "execute_result"
    }
   ],
   "source": [
    "#Visualising the class labels for each parah\n",
    "table = np.array(words)\n",
    "table_df = pd.DataFrame({'Document': words, \n",
    "                          'Category': labels})\n",
    "table_df = table_df[['Document', 'Category']]\n",
    "table_df"
   ]
  },
  {
   "cell_type": "code",
   "execution_count": 34,
   "metadata": {},
   "outputs": [],
   "source": [
    "from sklearn.feature_extraction.text import CountVectorizer\n"
   ]
  },
  {
   "cell_type": "code",
   "execution_count": 35,
   "metadata": {},
   "outputs": [],
   "source": [
    "X = CountVectorizer(tokenizer=lambda doc:doc, lowercase=False).fit_transform(words)"
   ]
  },
  {
   "cell_type": "code",
   "execution_count": 36,
   "metadata": {},
   "outputs": [
    {
     "data": {
      "text/plain": [
       "scipy.sparse.csr.csr_matrix"
      ]
     },
     "execution_count": 36,
     "metadata": {},
     "output_type": "execute_result"
    }
   ],
   "source": [
    "type(X)"
   ]
  },
  {
   "cell_type": "code",
   "execution_count": 37,
   "metadata": {},
   "outputs": [],
   "source": [
    "# Separating Test and Train data \n",
    "Train_words = X[0:10000]\n",
    "Test_words = X[10000:]\n",
    "Train_label = labels[0:10000]\n",
    "Test_label = labels[10000:]"
   ]
  },
  {
   "cell_type": "markdown",
   "metadata": {},
   "source": [
    "# K Nearest Neighbors Classifier"
   ]
  },
  {
   "cell_type": "code",
   "execution_count": 38,
   "metadata": {},
   "outputs": [],
   "source": [
    "from sklearn.neighbors import KNeighborsClassifier"
   ]
  },
  {
   "cell_type": "code",
   "execution_count": 39,
   "metadata": {},
   "outputs": [],
   "source": [
    "clf = KNeighborsClassifier(n_neighbors=30,metric='cosine')"
   ]
  },
  {
   "cell_type": "code",
   "execution_count": 40,
   "metadata": {},
   "outputs": [
    {
     "data": {
      "text/plain": [
       "KNeighborsClassifier(algorithm='auto', leaf_size=30, metric='cosine',\n",
       "           metric_params=None, n_jobs=1, n_neighbors=30, p=2,\n",
       "           weights='uniform')"
      ]
     },
     "execution_count": 40,
     "metadata": {},
     "output_type": "execute_result"
    }
   ],
   "source": [
    "clf.fit(Train_words,Train_label)"
   ]
  },
  {
   "cell_type": "code",
   "execution_count": 41,
   "metadata": {},
   "outputs": [],
   "source": [
    "pred=clf.predict(Test_words)"
   ]
  },
  {
   "cell_type": "code",
   "execution_count": 42,
   "metadata": {},
   "outputs": [],
   "source": [
    "from sklearn.metrics import classification_report"
   ]
  },
  {
   "cell_type": "code",
   "execution_count": 43,
   "metadata": {},
   "outputs": [
    {
     "name": "stdout",
     "output_type": "stream",
     "text": [
      "             precision    recall  f1-score   support\n",
      "\n",
      "          1       0.44      0.71      0.54       961\n",
      "          2       0.49      0.10      0.17       440\n",
      "          3       0.46      0.08      0.13       581\n",
      "          4       0.58      0.46      0.51       922\n",
      "          5       0.42      0.54      0.47      1534\n",
      "\n",
      "avg / total       0.47      0.45      0.42      4438\n",
      "\n"
     ]
    }
   ],
   "source": [
    "print(classification_report(Test_label,pred))"
   ]
  },
  {
   "cell_type": "code",
   "execution_count": 44,
   "metadata": {},
   "outputs": [],
   "source": [
    "import itertools"
   ]
  },
  {
   "cell_type": "code",
   "execution_count": 45,
   "metadata": {},
   "outputs": [],
   "source": [
    "def plot_classification_report(classificationReport,\n",
    "                              title='Classification report',\n",
    "                              cmap='RdBu'):\n",
    "    classificationReport = classificationReport.replace('\\n\\n', '\\n')\n",
    "    classificationReport = classificationReport.replace(' / ', '/')\n",
    "    lines = classificationReport.split('\\n')\n",
    "    classes, plotMat, support, class_names = [], [], [], []\n",
    "    for line in lines[1:]:  # if you don't want avg/total result, then change [1:] into [1:-1]\n",
    "            t = line.strip().replace(' avg', '-avg').split()\n",
    "            if len(t) < 2:\n",
    "                   continue\n",
    "            classes.append(t[0])\n",
    "            v = [float(x) for x in t[1: len(t) - 1]]\n",
    "            support.append(int(t[-1]))\n",
    "            class_names.append(t[0])\n",
    "            plotMat.append(v)\n",
    "    plotMat = np.array(plotMat)\n",
    "    xticklabels = ['Precision', 'Recall', 'F1-score']\n",
    "    yticklabels = ['{0} ({1})'.format(class_names[idx], sup)\n",
    "                  for idx, sup in enumerate(support)]\n",
    "    plt.imshow(plotMat, interpolation='nearest', cmap=cmap, aspect='auto')\n",
    "    plt.title(title)\n",
    "    plt.colorbar()\n",
    "    plt.xticks(np.arange(3), xticklabels, rotation=45)\n",
    "    plt.yticks(np.arange(len(classes)), yticklabels)\n",
    "    upper_thresh = plotMat.min() + (plotMat.max() - plotMat.min()) / 10 * 8\n",
    "    lower_thresh = plotMat.min() + (plotMat.max() - plotMat.min()) / 10 * 2\n",
    "    for i, j in itertools.product(range(plotMat.shape[0]), range(plotMat.shape[1])):\n",
    "        plt.text(j, i, format(plotMat[i, j], '.2f'),\n",
    "                horizontalalignment=\"center\",\n",
    "                color=\"white\" if (plotMat[i, j] > upper_thresh or plotMat[i, j] < lower_thresh) else \"black\")\n",
    "    plt.ylabel('Metrics')\n",
    "    plt.xlabel('Classes')\n",
    "    plt.tight_layout()"
   ]
  },
  {
   "cell_type": "code",
   "execution_count": 46,
   "metadata": {},
   "outputs": [],
   "source": [
    "report=classification_report(Test_label,pred)"
   ]
  },
  {
   "cell_type": "code",
   "execution_count": 47,
   "metadata": {
    "scrolled": true
   },
   "outputs": [
    {
     "data": {
      "image/png": "[encoded data removed]",
      "text/plain": [
       "<Figure size 432x288 with 2 Axes>"
      ]
     },
     "metadata": {},
     "output_type": "display_data"
    }
   ],
   "source": [
    "plot_classification_report(report)\n",
    "plt.show()\n",
    "plt.close()"
   ]
  },
  {
   "cell_type": "markdown",
   "metadata": {},
   "source": [
    "# Decision Tree Classifier"
   ]
  },
  {
   "cell_type": "code",
   "execution_count": 48,
   "metadata": {},
   "outputs": [],
   "source": [
    "from sklearn.tree import DecisionTreeClassifier"
   ]
  },
  {
   "cell_type": "code",
   "execution_count": 49,
   "metadata": {},
   "outputs": [],
   "source": [
    "clf = DecisionTreeClassifier(max_features=2000)"
   ]
  },
  {
   "cell_type": "code",
   "execution_count": 50,
   "metadata": {},
   "outputs": [
    {
     "data": {
      "text/plain": [
       "DecisionTreeClassifier(class_weight=None, criterion='gini', max_depth=None,\n",
       "            max_features=2000, max_leaf_nodes=None,\n",
       "            min_impurity_decrease=0.0, min_impurity_split=None,\n",
       "            min_samples_leaf=1, min_samples_split=2,\n",
       "            min_weight_fraction_leaf=0.0, presort=False, random_state=None,\n",
       "            splitter='best')"
      ]
     },
     "execution_count": 50,
     "metadata": {},
     "output_type": "execute_result"
    }
   ],
   "source": [
    "clf.fit(Train_words,Train_label)"
   ]
  },
  {
   "cell_type": "code",
   "execution_count": 60,
   "metadata": {},
   "outputs": [],
   "source": [
    "pred=clf.predict(Test_words)"
   ]
  },
  {
   "cell_type": "code",
   "execution_count": 61,
   "metadata": {},
   "outputs": [
    {
     "name": "stdout",
     "output_type": "stream",
     "text": [
      "             precision    recall  f1-score   support\n",
      "\n",
      "          1       0.50      0.56      0.52       961\n",
      "          2       0.24      0.27      0.26       440\n",
      "          3       0.28      0.28      0.28       581\n",
      "          4       0.48      0.49      0.49       922\n",
      "          5       0.33      0.29      0.31      1534\n",
      "\n",
      "avg / total       0.38      0.38      0.38      4438\n",
      "\n"
     ]
    }
   ],
   "source": [
    "print(classification_report(Test_label,pred))"
   ]
  },
  {
   "cell_type": "code",
   "execution_count": 62,
   "metadata": {},
   "outputs": [],
   "source": [
    "report=classification_report(Test_label,pred)"
   ]
  },
  {
   "cell_type": "code",
   "execution_count": 63,
   "metadata": {},
   "outputs": [
    {
     "data": {
      "image/png": "[encoded data removed]",
      "text/plain": [
       "<Figure size 432x288 with 2 Axes>"
      ]
     },
     "metadata": {},
     "output_type": "display_data"
    }
   ],
   "source": [
    "plot_classification_report(report)\n",
    "plt.show()\n",
    "plt.close()"
   ]
  },
  {
   "cell_type": "markdown",
   "metadata": {},
   "source": [
    "# Extra Trees Classifier"
   ]
  },
  {
   "cell_type": "code",
   "execution_count": 22,
   "metadata": {},
   "outputs": [],
   "source": [
    "from sklearn.ensemble import ExtraTreesClassifier"
   ]
  },
  {
   "cell_type": "code",
   "execution_count": 23,
   "metadata": {},
   "outputs": [],
   "source": [
    "clf = ExtraTreesClassifier(n_estimators=200, max_features=200,random_state=7)"
   ]
  },
  {
   "cell_type": "code",
   "execution_count": 24,
   "metadata": {},
   "outputs": [
    {
     "data": {
      "text/plain": [
       "ExtraTreesClassifier(bootstrap=False, class_weight=None, criterion='gini',\n",
       "           max_depth=None, max_features=200, max_leaf_nodes=None,\n",
       "           min_impurity_decrease=0.0, min_impurity_split=None,\n",
       "           min_samples_leaf=1, min_samples_split=2,\n",
       "           min_weight_fraction_leaf=0.0, n_estimators=200, n_jobs=1,\n",
       "           oob_score=False, random_state=7, verbose=0, warm_start=False)"
      ]
     },
     "execution_count": 24,
     "metadata": {},
     "output_type": "execute_result"
    }
   ],
   "source": [
    "clf.fit(Train_words,Train_label)"
   ]
  },
  {
   "cell_type": "code",
   "execution_count": null,
   "metadata": {},
   "outputs": [],
   "source": [
    "pred=clf.predict(Test_words)"
   ]
  },
  {
   "cell_type": "code",
   "execution_count": 18,
   "metadata": {},
   "outputs": [
    {
     "name": "stdout",
     "output_type": "stream",
     "text": [
      "             precision    recall  f1-score   support\n",
      "\n",
      "          1       0.49      0.53      0.51       961\n",
      "          2       0.26      0.30      0.28       440\n",
      "          3       0.26      0.26      0.26       581\n",
      "          4       0.47      0.48      0.47       922\n",
      "          5       0.32      0.28      0.30      1534\n",
      "\n",
      "avg / total       0.37      0.37      0.37      4438\n",
      "\n"
     ]
    }
   ],
   "source": [
    "print(classification_report(Test_label,pred))"
   ]
  },
  {
   "cell_type": "code",
   "execution_count": 19,
   "metadata": {},
   "outputs": [],
   "source": [
    "report=classification_report(Test_label,pred)"
   ]
  },
  {
   "cell_type": "code",
   "execution_count": 22,
   "metadata": {},
   "outputs": [
    {
     "data": {
      "image/png": "[encoded data removed]",
      "text/plain": [
       "<Figure size 432x288 with 2 Axes>"
      ]
     },
     "metadata": {},
     "output_type": "display_data"
    }
   ],
   "source": [
    "plot_classification_report(report)\n",
    "plt.show()\n",
    "plt.close()"
   ]
  },
  {
   "cell_type": "markdown",
   "metadata": {},
   "source": [
    "# Logistic Regression"
   ]
  },
  {
   "cell_type": "code",
   "execution_count": 51,
   "metadata": {},
   "outputs": [],
   "source": [
    "from sklearn.linear_model import LogisticRegression"
   ]
  },
  {
   "cell_type": "code",
   "execution_count": 52,
   "metadata": {},
   "outputs": [],
   "source": [
    "clf=LogisticRegression()"
   ]
  },
  {
   "cell_type": "code",
   "execution_count": 55,
   "metadata": {},
   "outputs": [
    {
     "data": {
      "text/plain": [
       "LogisticRegression(C=1.0, class_weight=None, dual=False, fit_intercept=True,\n",
       "          intercept_scaling=1, max_iter=100, multi_class='ovr', n_jobs=1,\n",
       "          penalty='l2', random_state=None, solver='liblinear', tol=0.0001,\n",
       "          verbose=0, warm_start=False)"
      ]
     },
     "execution_count": 55,
     "metadata": {},
     "output_type": "execute_result"
    }
   ],
   "source": [
    "clf.fit(Train_words,Train_label)"
   ]
  },
  {
   "cell_type": "code",
   "execution_count": 56,
   "metadata": {},
   "outputs": [
    {
     "name": "stdout",
     "output_type": "stream",
     "text": [
      "             precision    recall  f1-score   support\n",
      "\n",
      "          1       0.44      0.71      0.54       961\n",
      "          2       0.49      0.10      0.17       440\n",
      "          3       0.46      0.08      0.13       581\n",
      "          4       0.58      0.46      0.51       922\n",
      "          5       0.42      0.54      0.47      1534\n",
      "\n",
      "avg / total       0.47      0.45      0.42      4438\n",
      "\n"
     ]
    }
   ],
   "source": [
    "print(classification_report(Test_label,pred))"
   ]
  },
  {
   "cell_type": "code",
   "execution_count": 57,
   "metadata": {},
   "outputs": [],
   "source": [
    "report=classification_report(Test_label,pred)"
   ]
  },
  {
   "cell_type": "code",
   "execution_count": 58,
   "metadata": {},
   "outputs": [
    {
     "data": {
      "image/png": "[encoded data removed]",
      "text/plain": [
       "<Figure size 432x288 with 2 Axes>"
      ]
     },
     "metadata": {},
     "output_type": "display_data"
    }
   ],
   "source": [
    "plot_classification_report(report)\n",
    "plt.show()\n",
    "plt.close()"
   ]
  },
  {
   "cell_type": "markdown",
   "metadata": {},
   "source": [
    "# Random Forest Classifier"
   ]
  },
  {
   "cell_type": "code",
   "execution_count": 59,
   "metadata": {},
   "outputs": [],
   "source": [
    "from sklearn.ensemble import RandomForestClassifier"
   ]
  },
  {
   "cell_type": "code",
   "execution_count": 60,
   "metadata": {},
   "outputs": [],
   "source": [
    "clf = RandomForestClassifier(n_estimators=200,max_features=1000, max_depth=40,random_state=1)"
   ]
  },
  {
   "cell_type": "code",
   "execution_count": 64,
   "metadata": {},
   "outputs": [
    {
     "data": {
      "text/plain": [
       "RandomForestClassifier(bootstrap=True, class_weight=None, criterion='gini',\n",
       "            max_depth=40, max_features=1000, max_leaf_nodes=None,\n",
       "            min_impurity_decrease=0.0, min_impurity_split=None,\n",
       "            min_samples_leaf=1, min_samples_split=2,\n",
       "            min_weight_fraction_leaf=0.0, n_estimators=200, n_jobs=1,\n",
       "            oob_score=False, random_state=1, verbose=0, warm_start=False)"
      ]
     },
     "execution_count": 64,
     "metadata": {},
     "output_type": "execute_result"
    }
   ],
   "source": [
    "clf.fit(Train_words,Train_label)"
   ]
  },
  {
   "cell_type": "code",
   "execution_count": 65,
   "metadata": {},
   "outputs": [
    {
     "name": "stdout",
     "output_type": "stream",
     "text": [
      "             precision    recall  f1-score   support\n",
      "\n",
      "          1       0.44      0.71      0.54       961\n",
      "          2       0.49      0.10      0.17       440\n",
      "          3       0.46      0.08      0.13       581\n",
      "          4       0.58      0.46      0.51       922\n",
      "          5       0.42      0.54      0.47      1534\n",
      "\n",
      "avg / total       0.47      0.45      0.42      4438\n",
      "\n"
     ]
    }
   ],
   "source": [
    "print(classification_report(Test_label,pred))"
   ]
  },
  {
   "cell_type": "code",
   "execution_count": 66,
   "metadata": {},
   "outputs": [],
   "source": [
    "report=classification_report(Test_label,pred)"
   ]
  },
  {
   "cell_type": "code",
   "execution_count": 67,
   "metadata": {},
   "outputs": [
    {
     "data": {
      "image/png": "[encoded data removed]",
      "text/plain": [
       "<Figure size 432x288 with 2 Axes>"
      ]
     },
     "metadata": {},
     "output_type": "display_data"
    }
   ],
   "source": [
    "plot_classification_report(report)\n",
    "plt.show()\n",
    "plt.close()"
   ]
  },
  {
   "cell_type": "code",
   "execution_count": null,
   "metadata": {},
   "outputs": [],
   "source": []
  }
 ],
 "metadata": {
  "kernelspec": {
   "display_name": "Python 3",
   "language": "python",
   "name": "python3"
  },
  "language_info": {
   "codemirror_mode": {
    "name": "ipython",
    "version": 3
   },
   "file_extension": ".py",
   "mimetype": "text/x-python",
   "name": "python",
   "nbconvert_exporter": "python",
   "pygments_lexer": "ipython3",
   "version": "3.6.5"
  }
 },
 "nbformat": 4,
 "nbformat_minor": 2
}
