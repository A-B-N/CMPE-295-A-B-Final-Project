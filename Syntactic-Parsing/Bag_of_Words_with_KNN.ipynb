{
 "cells": [
  {
   "cell_type": "code",
   "execution_count": 1,
   "metadata": {},
   "outputs": [],
   "source": [
    "import nltk\n",
    "import string\n",
    "from nltk.corpus import stopwords\n",
    "from nltk.tokenize import word_tokenize\n",
    "# nltk.download()\n",
    "\n",
    "with open(\"medical_train.dat\", \"r\") as fh:\n",
    "    lines = fh.readlines() "
   ]
  },
  {
   "cell_type": "code",
   "execution_count": 2,
   "metadata": {},
   "outputs": [],
   "source": [
    "def punctuation_stopwords(words):\n",
    "    cleaned_text = []\n",
    "    stop_words = stopwords.words('english')+list(string.punctuation)\n",
    "    for w in words:\n",
    "        w = w.lower()\n",
    "        if w not in stop_words:\n",
    "            cleaned_text.append(w)\n",
    "        else:\n",
    "            continue\n",
    "    return cleaned_text\n",
    "\n",
    "\n",
    "def group_todict(words):\n",
    "    BoW = {}\n",
    "    for word in words:\n",
    "        if word in BoW:\n",
    "            BoW[word] +=1\n",
    "        else:\n",
    "            BoW[word] = 1\n",
    "    return BoW"
   ]
  },
  {
   "cell_type": "code",
   "execution_count": 4,
   "metadata": {},
   "outputs": [],
   "source": [
    "labels =[]\n",
    "texts = []\n",
    "a=[]\n",
    "cleaned_text = []\n",
    "\n",
    "for line in lines:\n",
    "    splitline = line.split('\\t')\n",
    "    labels.append(splitline[0])\n",
    "    texts.append(splitline[1])\n",
    "\n",
    "for text in texts:\n",
    "    a = punctuation_stopwords(word_tokenize(text))\n",
    "    a = group_todict(a)\n",
    "    cleaned_text.append(a)"
   ]
  },
  {
   "cell_type": "code",
   "execution_count": 5,
   "metadata": {},
   "outputs": [
    {
     "data": {
      "text/plain": [
       "(14438, 14438)"
      ]
     },
     "execution_count": 5,
     "metadata": {},
     "output_type": "execute_result"
    }
   ],
   "source": [
    "len(texts),len(labels)"
   ]
  },
  {
   "cell_type": "code",
   "execution_count": 6,
   "metadata": {},
   "outputs": [],
   "source": [
    "from sklearn.feature_extraction import DictVectorizer"
   ]
  },
  {
   "cell_type": "code",
   "execution_count": 7,
   "metadata": {},
   "outputs": [],
   "source": [
    "v = DictVectorizer(sparse=True)\n",
    "X = v.fit_transform(cleaned_text)"
   ]
  },
  {
   "cell_type": "code",
   "execution_count": 8,
   "metadata": {},
   "outputs": [],
   "source": [
    "train_cleaned_text, test_cleaned_text = X[0:10000], X[10000:]\n",
    "train_labels, test_labels = labels[0:10000], labels[10000:] "
   ]
  },
  {
   "cell_type": "code",
   "execution_count": 9,
   "metadata": {},
   "outputs": [
    {
     "data": {
      "text/plain": [
       "KNeighborsClassifier(algorithm='auto', leaf_size=30, metric='cosine',\n",
       "           metric_params=None, n_jobs=1, n_neighbors=300, p=2,\n",
       "           weights='uniform')"
      ]
     },
     "execution_count": 9,
     "metadata": {},
     "output_type": "execute_result"
    }
   ],
   "source": [
    "from sklearn.neighbors import KNeighborsClassifier\n",
    "clf1 = KNeighborsClassifier(n_neighbors=30,metric='cosine')\n",
    "clf2 = KNeighborsClassifier(n_neighbors=300,metric='cosine')\n",
    "clf1.fit(train_cleaned_text,train_labels)\n",
    "clf2.fit(train_cleaned_text,train_labels)"
   ]
  },
  {
   "cell_type": "code",
   "execution_count": 10,
   "metadata": {},
   "outputs": [],
   "source": [
    "pred1 = clf1.predict(test_cleaned_text)\n",
    "pred2 = clf2.predict(test_cleaned_text)"
   ]
  },
  {
   "cell_type": "code",
   "execution_count": 11,
   "metadata": {},
   "outputs": [
    {
     "name": "stdout",
     "output_type": "stream",
     "text": [
      "             precision    recall  f1-score   support\n",
      "\n",
      "          1       0.62      0.80      0.70       961\n",
      "          2       0.49      0.41      0.44       440\n",
      "          3       0.56      0.26      0.36       581\n",
      "          4       0.52      0.81      0.63       922\n",
      "          5       0.54      0.40      0.46      1534\n",
      "\n",
      "avg / total       0.55      0.55      0.53      4438\n",
      "\n",
      "             precision    recall  f1-score   support\n",
      "\n",
      "          1       0.66      0.81      0.73       961\n",
      "          2       0.61      0.11      0.19       440\n",
      "          3       0.62      0.06      0.12       581\n",
      "          4       0.56      0.75      0.64       922\n",
      "          5       0.47      0.58      0.52      1534\n",
      "\n",
      "avg / total       0.56      0.55      0.50      4438\n",
      "\n"
     ]
    }
   ],
   "source": [
    "from sklearn.metrics import classification_report\n",
    "print(classification_report(test_labels,pred1))\n",
    "print(classification_report(test_labels,pred2))"
   ]
  },
  {
   "cell_type": "code",
   "execution_count": null,
   "metadata": {},
   "outputs": [],
   "source": []
  },
  {
   "cell_type": "code",
   "execution_count": null,
   "metadata": {},
   "outputs": [],
   "source": []
  }
 ],
 "metadata": {
  "kernelspec": {
   "display_name": "Python 3",
   "language": "python",
   "name": "python3"
  },
  "language_info": {
   "codemirror_mode": {
    "name": "ipython",
    "version": 3
   },
   "file_extension": ".py",
   "mimetype": "text/x-python",
   "name": "python",
   "nbconvert_exporter": "python",
   "pygments_lexer": "ipython3",
   "version": "3.6.5"
  }
 },
 "nbformat": 4,
 "nbformat_minor": 2
}
